{
 "cells": [
  {
   "attachments": {},
   "cell_type": "markdown",
   "metadata": {},
   "source": [
    "# Creating a Kilosort4 probe dictionary\n",
    "\n",
    "Kilosort4 uses a dictionary to track probe interformation.\n",
    "The dictionary needs the following keys, all of which correspond to NumPy ndarrays.\n",
    "\n",
    "```\n",
    "'chanMap': the channel indices that are included in the data.\n",
    "'xc':      the x-coordinates (in micrometers) of the probe contact centers.\n",
    "'yc':      the y-coordinates (in micrometers) of the probe contact centers.\n",
    "'kcoords': shank or channel group of each contact.\n",
    "'n_chan':  the number of channels.\n",
    "```"
   ]
  },
  {
   "cell_type": "code",
   "execution_count": 17,
   "metadata": {},
   "outputs": [],
   "source": [
    "import numpy as np\n",
    "\n",
    "n_chan = 32\n",
    "chanMap = np.arange(n_chan)\n",
    "#kcoords = [0 if ii < 16 else 1 for ii in range(n_chan)] #np.zeros(n_chan)  #np.array([(i//4) for i in range(n_chan)])\n",
    "kcoords = np.array([(i//4) for i in range(n_chan)])"
   ]
  },
  {
   "attachments": {},
   "cell_type": "markdown",
   "metadata": {},
   "source": [
    "### Define physical dimensions"
   ]
  },
  {
   "cell_type": "code",
   "execution_count": 18,
   "metadata": {},
   "outputs": [],
   "source": [
    "# x,y coordinates for 32 channels, arranged in 1um grid\n",
    "xc = np.array([0,1,2,3] * 8) * 20\n",
    "yc = np.array([(ii//4) for ii in range(n_chan)]) * 20"
   ]
  },
  {
   "cell_type": "code",
   "execution_count": 19,
   "metadata": {},
   "outputs": [],
   "source": [
    "# Add 1000mu padding between the two regions\n",
    "yc[16:] = yc[16:] #+ 1000"
   ]
  },
  {
   "attachments": {},
   "cell_type": "markdown",
   "metadata": {},
   "source": [
    "Create probe dictionary:"
   ]
  },
  {
   "cell_type": "code",
   "execution_count": 20,
   "metadata": {},
   "outputs": [
    {
     "name": "stdout",
     "output_type": "stream",
     "text": [
      "{'chanMap': array([ 0,  1,  2,  3,  4,  5,  6,  7,  8,  9, 10, 11, 12, 13, 14, 15, 16,\n",
      "       17, 18, 19, 20, 21, 22, 23, 24, 25, 26, 27, 28, 29, 30, 31]), 'xc': array([ 0, 20, 40, 60,  0, 20, 40, 60,  0, 20, 40, 60,  0, 20, 40, 60,  0,\n",
      "       20, 40, 60,  0, 20, 40, 60,  0, 20, 40, 60,  0, 20, 40, 60]), 'yc': array([  0,   0,   0,   0,  20,  20,  20,  20,  40,  40,  40,  40,  60,\n",
      "        60,  60,  60,  80,  80,  80,  80, 100, 100, 100, 100, 120, 120,\n",
      "       120, 120, 140, 140, 140, 140]), 'kcoords': array([0, 0, 0, 0, 1, 1, 1, 1, 2, 2, 2, 2, 3, 3, 3, 3, 4, 4, 4, 4, 5, 5,\n",
      "       5, 5, 6, 6, 6, 6, 7, 7, 7, 7]), 'n_chan': 32}\n"
     ]
    }
   ],
   "source": [
    "probe = {\n",
    "    'chanMap': chanMap,\n",
    "    'xc': xc,\n",
    "    'yc': yc,\n",
    "    'kcoords': kcoords,\n",
    "    'n_chan': n_chan\n",
    "}\n",
    "\n",
    "print(probe)"
   ]
  },
  {
   "attachments": {},
   "cell_type": "markdown",
   "metadata": {},
   "source": [
    "This probe dictionary can now be used as an argument for `run_kilosort`, as demonstrated above. We can also save it to a `.json` file for later use:"
   ]
  },
  {
   "cell_type": "code",
   "execution_count": 21,
   "metadata": {},
   "outputs": [],
   "source": [
    "from kilosort.io import save_probe\n",
    "\n",
    "save_probe(probe, '8_tetrode_2region_20um_8shank_tight.json')"
   ]
  },
  {
   "attachments": {},
   "cell_type": "markdown",
   "metadata": {},
   "source": [
    "Now Kilsort4 can load the probe file and extract the contact coordinates and other relevant information. There are two ways to provide this information when running Kilosort4:\n",
    "\n",
    "1. Specify the path to the probe file in the GUI.\n",
    "\n",
    "Or\n",
    "\n",
    "2. Load the probe using `kilosort.io.load_probe` and provide the resulting dictionary to `kilosort.run_kilosort` using the `probe` keyword argument (demonstrated below)."
   ]
  },
  {
   "cell_type": "code",
   "execution_count": 22,
   "metadata": {},
   "outputs": [],
   "source": [
    "# from kilosort import run_kilosort\n",
    "# from kilosort.io import load_probe\n",
    "\n",
    "# # Abreviated arguments, for demonstration only.\n",
    "# p = load_probe('.../test_prb.prb')\n",
    "# results = run_kilosort(..., probe=p)"
   ]
  }
 ],
 "metadata": {
  "kernelspec": {
   "display_name": "kilosort4",
   "language": "python",
   "name": "python3"
  },
  "language_info": {
   "codemirror_mode": {
    "name": "ipython",
    "version": 3
   },
   "file_extension": ".py",
   "mimetype": "text/x-python",
   "name": "python",
   "nbconvert_exporter": "python",
   "pygments_lexer": "ipython3",
   "version": "3.9.21"
  },
  "orig_nbformat": 4
 },
 "nbformat": 4,
 "nbformat_minor": 2
}
