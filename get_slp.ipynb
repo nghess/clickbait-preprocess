{
 "cells": [
  {
   "cell_type": "code",
   "execution_count": 5,
   "metadata": {},
   "outputs": [],
   "source": [
    "from pathlib import Path\n",
    "output_path = 'S:/test/tjos/tests'\n",
    "output_dir = Path(output_path).parent\n",
    "output_dir.mkdir(parents=True, exist_ok=True)"
   ]
  },
  {
   "cell_type": "code",
   "execution_count": 8,
   "metadata": {},
   "outputs": [],
   "source": [
    "from sleap import *\n",
    "from behavior_utils import *\n",
    "from sleap.info import write_tracking_h5"
   ]
  },
  {
   "cell_type": "code",
   "execution_count": 6,
   "metadata": {},
   "outputs": [
    {
     "name": "stdout",
     "output_type": "stream",
     "text": [
      "Found 25 .slp files\n",
      "0 S:\\clickbait-motivate\\sleap\\7001\\m1\\7001_m1_sleap.h5.slp\n",
      "1 S:\\clickbait-motivate\\sleap\\7001\\m2\\7001_m2_sleap.h5.slp\n",
      "2 S:\\clickbait-motivate\\sleap\\7001\\m3\\7001_m3_sleap.h5.slp\n",
      "3 S:\\clickbait-motivate\\sleap\\7001\\m4\\7001_m4_sleap.h5.slp\n",
      "4 S:\\clickbait-motivate\\sleap\\7001\\m5\\7001_m5_sleap.h5.slp\n",
      "5 S:\\clickbait-motivate\\sleap\\7001\\m6\\7001_m6_sleap.h5.slp\n",
      "6 S:\\clickbait-motivate\\sleap\\7002\\m0\\7002_m0_sleap.h5.slp\n",
      "7 S:\\clickbait-motivate\\sleap\\7002\\m1\\7002_m1_sleap.h5.slp\n",
      "8 S:\\clickbait-motivate\\sleap\\7002\\m2\\7002_m2_sleap.h5.slp\n",
      "9 S:\\clickbait-motivate\\sleap\\7002\\m3\\7002_m3_sleap.h5.slp\n",
      "10 S:\\clickbait-motivate\\sleap\\7002\\m4\\7002_m4_sleap.h5.slp\n",
      "11 S:\\clickbait-motivate\\sleap\\7003\\m0\\7003_m0_sleap.h5.slp\n",
      "12 S:\\clickbait-motivate\\sleap\\7003\\m1\\7003_m1_sleap.h5.slp\n",
      "13 S:\\clickbait-motivate\\sleap\\7003\\m2\\7003_m2_sleap.h5.slp\n",
      "14 S:\\clickbait-motivate\\sleap\\7003\\m3\\7003_m3_sleap.h5.slp\n",
      "15 S:\\clickbait-motivate\\sleap\\7003\\m4\\7003_m4_sleap.h5.slp\n",
      "16 S:\\clickbait-motivate\\sleap\\7003\\m5\\7003_m5_sleap.h5.slp\n",
      "17 S:\\clickbait-motivate\\sleap\\7003\\m6\\7003_m6_sleap.h5.slp\n",
      "18 S:\\clickbait-motivate\\sleap\\7004\\m0\\7004_m0_sleap.h5.slp\n",
      "19 S:\\clickbait-motivate\\sleap\\7004\\m1\\7004_m1_sleap.h5.slp\n",
      "20 S:\\clickbait-motivate\\sleap\\7004\\m2\\7004_m2_sleap.h5.slp\n",
      "21 S:\\clickbait-motivate\\sleap\\7004\\m3\\7004_m3_sleap.h5.slp\n",
      "22 S:\\clickbait-motivate\\sleap\\7004\\m4\\7004_m4_sleap.h5.slp\n",
      "23 S:\\clickbait-motivate\\sleap\\7004\\m5\\7004_m5_sleap.h5.slp\n",
      "24 S:\\clickbait-motivate\\sleap\\7004\\m6\\7004_m6_sleap.h5.slp\n"
     ]
    }
   ],
   "source": [
    "root_path = 'S:'\n",
    "experiment = 'clickbait-motivate'\n",
    "events_dir = 'sleap'\n",
    "session_type = 'm'\n",
    "\n",
    "# Get paths to relevant files\n",
    "slp_paths = get_file_paths(f\"{root_path}/{experiment}/sleap\", 'slp', '', session_type=session_type, print_paths=True, print_n=np.inf)"
   ]
  },
  {
   "cell_type": "code",
   "execution_count": 33,
   "metadata": {},
   "outputs": [
    {
     "name": "stdout",
     "output_type": "stream",
     "text": [
      "Processed SLEAP .csv for 7001-m1\n",
      "Processed SLEAP .csv for 7001-m2\n",
      "Processed SLEAP .csv for 7001-m3\n",
      "Processed SLEAP .csv for 7001-m4\n",
      "Processed SLEAP .csv for 7001-m5\n",
      "Processed SLEAP .csv for 7001-m6\n",
      "Processed SLEAP .csv for 7002-m0\n",
      "Processed SLEAP .csv for 7002-m1\n",
      "Processed SLEAP .csv for 7002-m2\n",
      "Processed SLEAP .csv for 7002-m3\n",
      "Processed SLEAP .csv for 7002-m4\n",
      "Processed SLEAP .csv for 7003-m0\n",
      "Processed SLEAP .csv for 7003-m1\n",
      "Processed SLEAP .csv for 7003-m2\n",
      "Processed SLEAP .csv for 7003-m3\n",
      "Processed SLEAP .csv for 7003-m4\n",
      "Processed SLEAP .csv for 7003-m5\n",
      "Processed SLEAP .csv for 7003-m6\n",
      "Processed SLEAP .csv for 7004-m0\n",
      "Processed SLEAP .csv for 7004-m1\n",
      "Processed SLEAP .csv for 7004-m2\n",
      "Processed SLEAP .csv for 7004-m3\n",
      "Processed SLEAP .csv for 7004-m4\n",
      "Processed SLEAP .csv for 7004-m5\n",
      "Processed SLEAP .csv for 7004-m6\n"
     ]
    }
   ],
   "source": [
    "for path in slp_paths:\n",
    "    mouse_id = path.parts[-3]\n",
    "    session_id = path.parts[-2]\n",
    "    slp = sleap.load_file(f\"{path}\")\n",
    "    slp.export_csv(f\"{path.parent}/{mouse_id}_{session_id}_sleap.csv\")\n",
    "    print(f\"Processed SLEAP .csv for {mouse_id}-{session_id}\")"
   ]
  },
  {
   "cell_type": "code",
   "execution_count": 36,
   "metadata": {},
   "outputs": [
    {
     "name": "stdout",
     "output_type": "stream",
     "text": [
      "Found 25 sleap.csv files\n",
      "0 S:\\clickbait-motivate\\sleap\\7001\\m1\\m1_7001_sleap.csv\n",
      "1 S:\\clickbait-motivate\\sleap\\7001\\m2\\m2_7001_sleap.csv\n",
      "2 S:\\clickbait-motivate\\sleap\\7001\\m3\\m3_7001_sleap.csv\n",
      "3 S:\\clickbait-motivate\\sleap\\7001\\m4\\m4_7001_sleap.csv\n",
      "4 S:\\clickbait-motivate\\sleap\\7001\\m5\\m5_7001_sleap.csv\n",
      "5 S:\\clickbait-motivate\\sleap\\7001\\m6\\m6_7001_sleap.csv\n",
      "6 S:\\clickbait-motivate\\sleap\\7002\\m0\\m0_7002_sleap.csv\n",
      "7 S:\\clickbait-motivate\\sleap\\7002\\m1\\m1_7002_sleap.csv\n",
      "8 S:\\clickbait-motivate\\sleap\\7002\\m2\\m2_7002_sleap.csv\n",
      "9 S:\\clickbait-motivate\\sleap\\7002\\m3\\m3_7002_sleap.csv\n",
      "10 S:\\clickbait-motivate\\sleap\\7002\\m4\\m4_7002_sleap.csv\n",
      "11 S:\\clickbait-motivate\\sleap\\7003\\m0\\m0_7003_sleap.csv\n",
      "12 S:\\clickbait-motivate\\sleap\\7003\\m1\\m1_7003_sleap.csv\n",
      "13 S:\\clickbait-motivate\\sleap\\7003\\m2\\m2_7003_sleap.csv\n",
      "14 S:\\clickbait-motivate\\sleap\\7003\\m3\\m3_7003_sleap.csv\n",
      "15 S:\\clickbait-motivate\\sleap\\7003\\m4\\m4_7003_sleap.csv\n",
      "16 S:\\clickbait-motivate\\sleap\\7003\\m5\\m5_7003_sleap.csv\n",
      "17 S:\\clickbait-motivate\\sleap\\7003\\m6\\m6_7003_sleap.csv\n",
      "18 S:\\clickbait-motivate\\sleap\\7004\\m0\\m0_7004_sleap.csv\n",
      "19 S:\\clickbait-motivate\\sleap\\7004\\m1\\m1_7004_sleap.csv\n",
      "20 S:\\clickbait-motivate\\sleap\\7004\\m2\\m2_7004_sleap.csv\n",
      "21 S:\\clickbait-motivate\\sleap\\7004\\m3\\m3_7004_sleap.csv\n",
      "22 S:\\clickbait-motivate\\sleap\\7004\\m4\\m4_7004_sleap.csv\n",
      "23 S:\\clickbait-motivate\\sleap\\7004\\m5\\m5_7004_sleap.csv\n",
      "24 S:\\clickbait-motivate\\sleap\\7004\\m6\\m6_7004_sleap.csv\n"
     ]
    }
   ],
   "source": [
    "# Check paths\n",
    "sleap_paths = get_file_paths(f\"{root_path}/{experiment}/sleap\", 'csv', 'sleap', session_type=session_type, print_paths=True, print_n=np.inf)"
   ]
  }
 ],
 "metadata": {
  "kernelspec": {
   "display_name": "sleap",
   "language": "python",
   "name": "python3"
  },
  "language_info": {
   "codemirror_mode": {
    "name": "ipython",
    "version": 3
   },
   "file_extension": ".py",
   "mimetype": "text/x-python",
   "name": "python",
   "nbconvert_exporter": "python",
   "pygments_lexer": "ipython3",
   "version": "3.7.12"
  }
 },
 "nbformat": 4,
 "nbformat_minor": 2
}
