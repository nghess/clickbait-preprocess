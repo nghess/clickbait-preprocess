{
 "cells": [
  {
   "cell_type": "code",
   "execution_count": 13,
   "metadata": {},
   "outputs": [],
   "source": [
    "from behavior_utils import *\n",
    "import matplotlib.pyplot as plt\n",
    "import numpy as np"
   ]
  },
  {
   "cell_type": "markdown",
   "metadata": {},
   "source": [
    "### Initialize paths\n"
   ]
  },
  {
   "cell_type": "code",
   "execution_count": 14,
   "metadata": {},
   "outputs": [
    {
     "name": "stdout",
     "output_type": "stream",
     "text": [
      "Found 50 ttl_signal.npy files\n",
      "0 S:\\clickbait-motivate\\preprocessed\\7010\\m1\\ttl_signal.npy\n",
      "1 S:\\clickbait-motivate\\preprocessed\\7010\\m2\\ttl_signal.npy\n",
      "2 S:\\clickbait-motivate\\preprocessed\\7010\\m4\\ttl_signal.npy\n",
      "3 S:\\clickbait-motivate\\preprocessed\\7010\\m5\\ttl_signal.npy\n",
      "4 S:\\clickbait-motivate\\preprocessed\\7010\\m6\\ttl_signal.npy\n",
      "5 S:\\clickbait-motivate\\preprocessed\\7010\\m7\\ttl_signal.npy\n",
      "6 S:\\clickbait-motivate\\preprocessed\\7010\\m8\\ttl_signal.npy\n",
      "7 S:\\clickbait-motivate\\preprocessed\\7010\\m9\\ttl_signal.npy\n",
      "8 S:\\clickbait-motivate\\preprocessed\\7010\\m10\\ttl_signal.npy\n",
      "9 S:\\clickbait-motivate\\preprocessed\\7010\\m11\\ttl_signal.npy\n",
      "10 S:\\clickbait-motivate\\preprocessed\\7010\\m12\\ttl_signal.npy\n",
      "11 S:\\clickbait-motivate\\preprocessed\\7010\\m13\\ttl_signal.npy\n",
      "12 S:\\clickbait-motivate\\preprocessed\\7011\\m1\\ttl_signal.npy\n",
      "13 S:\\clickbait-motivate\\preprocessed\\7011\\m2\\ttl_signal.npy\n",
      "14 S:\\clickbait-motivate\\preprocessed\\7011\\m3\\ttl_signal.npy\n",
      "15 S:\\clickbait-motivate\\preprocessed\\7011\\m4\\ttl_signal.npy\n",
      "16 S:\\clickbait-motivate\\preprocessed\\7011\\m5\\ttl_signal.npy\n",
      "17 S:\\clickbait-motivate\\preprocessed\\7011\\m6\\ttl_signal.npy\n",
      "18 S:\\clickbait-motivate\\preprocessed\\7011\\m7\\ttl_signal.npy\n",
      "19 S:\\clickbait-motivate\\preprocessed\\7011\\m9\\ttl_signal.npy\n",
      "20 S:\\clickbait-motivate\\preprocessed\\7011\\m10\\ttl_signal.npy\n",
      "21 S:\\clickbait-motivate\\preprocessed\\7011\\m11\\ttl_signal.npy\n",
      "22 S:\\clickbait-motivate\\preprocessed\\7011\\m12\\ttl_signal.npy\n",
      "23 S:\\clickbait-motivate\\preprocessed\\7011\\m13\\ttl_signal.npy\n",
      "24 S:\\clickbait-motivate\\preprocessed\\7012\\m1\\ttl_signal.npy\n",
      "25 S:\\clickbait-motivate\\preprocessed\\7012\\m2\\ttl_signal.npy\n",
      "26 S:\\clickbait-motivate\\preprocessed\\7012\\m3\\ttl_signal.npy\n",
      "27 S:\\clickbait-motivate\\preprocessed\\7012\\m4\\ttl_signal.npy\n",
      "28 S:\\clickbait-motivate\\preprocessed\\7012\\m5\\ttl_signal.npy\n",
      "29 S:\\clickbait-motivate\\preprocessed\\7012\\m6\\ttl_signal.npy\n",
      "30 S:\\clickbait-motivate\\preprocessed\\7012\\m7\\ttl_signal.npy\n",
      "31 S:\\clickbait-motivate\\preprocessed\\7012\\m8\\ttl_signal.npy\n",
      "32 S:\\clickbait-motivate\\preprocessed\\7012\\m9\\ttl_signal.npy\n",
      "33 S:\\clickbait-motivate\\preprocessed\\7012\\m10\\ttl_signal.npy\n",
      "34 S:\\clickbait-motivate\\preprocessed\\7012\\m11\\ttl_signal.npy\n",
      "35 S:\\clickbait-motivate\\preprocessed\\7012\\m12\\ttl_signal.npy\n",
      "36 S:\\clickbait-motivate\\preprocessed\\7012\\m13\\ttl_signal.npy\n",
      "37 S:\\clickbait-motivate\\preprocessed\\7013\\m1\\ttl_signal.npy\n",
      "38 S:\\clickbait-motivate\\preprocessed\\7013\\m2\\ttl_signal.npy\n",
      "39 S:\\clickbait-motivate\\preprocessed\\7013\\m3\\ttl_signal.npy\n",
      "40 S:\\clickbait-motivate\\preprocessed\\7013\\m4\\ttl_signal.npy\n",
      "41 S:\\clickbait-motivate\\preprocessed\\7013\\m5\\ttl_signal.npy\n",
      "42 S:\\clickbait-motivate\\preprocessed\\7013\\m6\\ttl_signal.npy\n",
      "43 S:\\clickbait-motivate\\preprocessed\\7013\\m7\\ttl_signal.npy\n",
      "44 S:\\clickbait-motivate\\preprocessed\\7013\\m8\\ttl_signal.npy\n",
      "45 S:\\clickbait-motivate\\preprocessed\\7013\\m9\\ttl_signal.npy\n",
      "46 S:\\clickbait-motivate\\preprocessed\\7013\\m10\\ttl_signal.npy\n",
      "47 S:\\clickbait-motivate\\preprocessed\\7013\\m11\\ttl_signal.npy\n",
      "48 S:\\clickbait-motivate\\preprocessed\\7013\\m12\\ttl_signal.npy\n",
      "49 S:\\clickbait-motivate\\preprocessed\\7013\\m13\\ttl_signal.npy\n",
      "Found 56 .avi files\n",
      "Found 56 timestamp.csv files\n",
      "Found 56 _eventsA.csv files\n",
      "Found 56 _eventsB.csv files\n",
      "Found 0 sleap.csv files\n"
     ]
    }
   ],
   "source": [
    "root_path = 'S:'\n",
    "experiment = 'clickbait-motivate'\n",
    "events_dir = 'bonsai'\n",
    "session_type = 'm'\n",
    "\n",
    "# Get paths to relevant files\n",
    "ttl_paths = get_file_paths(f\"{root_path}/{experiment}/preprocessed\", 'npy', 'ttl_signal', session_type=session_type, print_paths=True, print_n=np.inf)\n",
    "video_paths = get_file_paths(f\"{root_path}/{experiment}/{events_dir}\", 'avi', '', session_type=session_type, print_paths=False, print_n=3)\n",
    "timestamps = get_file_paths(f\"{root_path}/{experiment}/{events_dir}\", 'csv', 'timestamp', session_type=session_type, print_paths=False, print_n=3)\n",
    "event_paths_a = get_file_paths(f\"{root_path}/{experiment}/{events_dir}\", 'csv', '_eventsA', session_type=session_type, print_paths=False, print_n=3)\n",
    "event_paths_b = get_file_paths(f\"{root_path}/{experiment}/{events_dir}\", 'csv', '_eventsB', session_type=session_type, print_paths=False, print_n=3)\n",
    "sleap_paths = get_file_paths(f\"{root_path}/{experiment}/sleap\", 'csv', 'sleap', session_type=session_type, print_paths=False, print_n=3)\n",
    "\n",
    "# Root directory for saving processed data\n",
    "save_path = Path(f\"{root_path}/{experiment}/{events_dir}\")"
   ]
  },
  {
   "cell_type": "code",
   "execution_count": 15,
   "metadata": {},
   "outputs": [
    {
     "name": "stdout",
     "output_type": "stream",
     "text": [
      "Using 52 .avi files.\n",
      "Using 52 timestamp.csv files.\n",
      "Using 52 eventsA.csv files.\n",
      "Using 52 eventsB.csv files.\n"
     ]
    }
   ],
   "source": [
    "# Make sure only paths with valid TTL files are used\n",
    "video_paths = filter_paths(video_paths, ttl_paths)\n",
    "timestamps = filter_paths(timestamps, ttl_paths)\n",
    "event_paths_a = filter_paths(event_paths_a, ttl_paths)\n",
    "event_paths_b = filter_paths(event_paths_b, ttl_paths)\n",
    "#sleap_paths = filter_paths(sleap_paths, ttl_paths)\n",
    "\n",
    "print(f\"Using {len(video_paths)} .avi files.\")\n",
    "print(f\"Using {len(timestamps)} timestamp.csv files.\")\n",
    "print(f\"Using {len(event_paths_a)} eventsA.csv files.\")\n",
    "print(f\"Using {len(event_paths_b)} eventsB.csv files.\")\n",
    "#print(f\"Using {len(sleap_paths)} sleap.csv files.\")"
   ]
  },
  {
   "cell_type": "markdown",
   "metadata": {},
   "source": [
    "### Dict of 'names': 'types' for event dataframe columns"
   ]
  },
  {
   "cell_type": "code",
   "execution_count": 16,
   "metadata": {},
   "outputs": [],
   "source": [
    "columns = {'trial_number': 'uint8',\n",
    "            'timestamp': 'datetime64[ns]',\n",
    "            'poke_left': 'bool',\n",
    "            'poke_right': 'bool',\n",
    "            'centroid_x': 'uint16',\n",
    "            'centroid_y': 'uint16',\n",
    "            'target_cell': 'str',\n",
    "            'iti': 'bool',\n",
    "            'water_left': 'bool',\n",
    "            'water_right': 'bool',\n",
    "            'reward_state': 'bool',\n",
    "            'click': 'bool',\n",
    "            'flip_state': 'bool'  #Uncomment for new sessions (9/26/25)\n",
    "            }"
   ]
  },
  {
   "cell_type": "markdown",
   "metadata": {},
   "source": [
    "### Process events and assign TTL times to each observation"
   ]
  },
  {
   "cell_type": "code",
   "execution_count": 17,
   "metadata": {},
   "outputs": [
    {
     "name": "stdout",
     "output_type": "stream",
     "text": [
      "(81837, 7)\n",
      "(81837, 6)\n"
     ]
    }
   ],
   "source": [
    "print(pd.read_csv(event_paths_a[17]).shape)\n",
    "print(pd.read_csv(event_paths_b[17]).shape)"
   ]
  },
  {
   "cell_type": "code",
   "execution_count": 18,
   "metadata": {},
   "outputs": [
    {
     "name": "stdout",
     "output_type": "stream",
     "text": [
      "S:\\clickbait-motivate\\bonsai\\7011\\m5\\10142025_7011_m5_eventsA.csv\n",
      "S:\\clickbait-motivate\\bonsai\\7011\\m5\\10142025_7011_m5_eventsB.csv\n"
     ]
    }
   ],
   "source": [
    "print(event_paths_a[17])\n",
    "print(event_paths_b[17])"
   ]
  },
  {
   "cell_type": "code",
   "execution_count": 22,
   "metadata": {},
   "outputs": [
    {
     "name": "stdout",
     "output_type": "stream",
     "text": [
      "0 S:\\clickbait-motivate\\preprocessed\\7010\\m1\\ttl_signal.npy\n",
      "Saved events for 7010 m1 to S:\\clickbait-motivate\\bonsai\\7010\\m1\\events.csv\n",
      "1 S:\\clickbait-motivate\\preprocessed\\7010\\m2\\ttl_signal.npy\n",
      "Saved events for 7010 m2 to S:\\clickbait-motivate\\bonsai\\7010\\m2\\events.csv\n",
      "2 S:\\clickbait-motivate\\preprocessed\\7010\\m4\\ttl_signal.npy\n",
      "Saved events for 7010 m4 to S:\\clickbait-motivate\\bonsai\\7010\\m4\\events.csv\n",
      "3 S:\\clickbait-motivate\\preprocessed\\7010\\m5\\ttl_signal.npy\n",
      "Saved events for 7010 m5 to S:\\clickbait-motivate\\bonsai\\7010\\m5\\events.csv\n",
      "4 S:\\clickbait-motivate\\preprocessed\\7010\\m6\\ttl_signal.npy\n",
      "Saved events for 7010 m6 to S:\\clickbait-motivate\\bonsai\\7010\\m6\\events.csv\n",
      "5 S:\\clickbait-motivate\\preprocessed\\7010\\m7\\ttl_signal.npy\n",
      "Saved events for 7010 m7 to S:\\clickbait-motivate\\bonsai\\7010\\m7\\events.csv\n",
      "6 S:\\clickbait-motivate\\preprocessed\\7010\\m8\\ttl_signal.npy\n",
      "Saved events for 7010 m8 to S:\\clickbait-motivate\\bonsai\\7010\\m8\\events.csv\n",
      "7 S:\\clickbait-motivate\\preprocessed\\7010\\m9\\ttl_signal.npy\n",
      "Saved events for 7010 m9 to S:\\clickbait-motivate\\bonsai\\7010\\m9\\events.csv\n",
      "8 S:\\clickbait-motivate\\preprocessed\\7010\\m10\\ttl_signal.npy\n",
      "Saved events for 7010 m10 to S:\\clickbait-motivate\\bonsai\\7010\\m10\\events.csv\n",
      "9 S:\\clickbait-motivate\\preprocessed\\7010\\m11\\ttl_signal.npy\n",
      "Saved events for 7010 m11 to S:\\clickbait-motivate\\bonsai\\7010\\m11\\events.csv\n",
      "10 S:\\clickbait-motivate\\preprocessed\\7010\\m12\\ttl_signal.npy\n",
      "Saved events for 7010 m12 to S:\\clickbait-motivate\\bonsai\\7010\\m12\\events.csv\n",
      "11 S:\\clickbait-motivate\\preprocessed\\7010\\m13\\ttl_signal.npy\n",
      "Saved events for 7010 m13 to S:\\clickbait-motivate\\bonsai\\7010\\m13\\events.csv\n",
      "12 S:\\clickbait-motivate\\preprocessed\\7011\\m1\\ttl_signal.npy\n",
      "Saved events for 7011 m1 to S:\\clickbait-motivate\\bonsai\\7011\\m1\\events.csv\n",
      "13 S:\\clickbait-motivate\\preprocessed\\7011\\m2\\ttl_signal.npy\n",
      "Saved events for 7011 m2 to S:\\clickbait-motivate\\bonsai\\7011\\m2\\events.csv\n",
      "14 S:\\clickbait-motivate\\preprocessed\\7011\\m3\\ttl_signal.npy\n",
      "Saved events for 7011 m3 to S:\\clickbait-motivate\\bonsai\\7011\\m3\\events.csv\n",
      "15 S:\\clickbait-motivate\\preprocessed\\7011\\m4\\ttl_signal.npy\n",
      "Saved events for 7011 m4 to S:\\clickbait-motivate\\bonsai\\7011\\m4\\events.csv\n",
      "16 S:\\clickbait-motivate\\preprocessed\\7011\\m5\\ttl_signal.npy\n",
      "Saved events for 7011 m5 to S:\\clickbait-motivate\\bonsai\\7011\\m5\\events.csv\n",
      "17 S:\\clickbait-motivate\\preprocessed\\7011\\m6\\ttl_signal.npy\n",
      "Saved events for 7011 m6 to S:\\clickbait-motivate\\bonsai\\7011\\m6\\events.csv\n",
      "18 S:\\clickbait-motivate\\preprocessed\\7011\\m7\\ttl_signal.npy\n",
      "Saved events for 7011 m7 to S:\\clickbait-motivate\\bonsai\\7011\\m7\\events.csv\n",
      "19 S:\\clickbait-motivate\\preprocessed\\7011\\m9\\ttl_signal.npy\n",
      "Saved events for 7011 m9 to S:\\clickbait-motivate\\bonsai\\7011\\m9\\events.csv\n",
      "20 S:\\clickbait-motivate\\preprocessed\\7011\\m10\\ttl_signal.npy\n",
      "Saved events for 7011 m10 to S:\\clickbait-motivate\\bonsai\\7011\\m10\\events.csv\n",
      "21 S:\\clickbait-motivate\\preprocessed\\7011\\m11\\ttl_signal.npy\n",
      "Saved events for 7011 m11 to S:\\clickbait-motivate\\bonsai\\7011\\m11\\events.csv\n",
      "22 S:\\clickbait-motivate\\preprocessed\\7011\\m12\\ttl_signal.npy\n",
      "Saved events for 7011 m12 to S:\\clickbait-motivate\\bonsai\\7011\\m12\\events.csv\n",
      "23 S:\\clickbait-motivate\\preprocessed\\7011\\m13\\ttl_signal.npy\n",
      "Saved events for 7011 m13 to S:\\clickbait-motivate\\bonsai\\7011\\m13\\events.csv\n",
      "24 S:\\clickbait-motivate\\preprocessed\\7012\\m1\\ttl_signal.npy\n",
      "Saved events for 7012 m1 to S:\\clickbait-motivate\\bonsai\\7012\\m1\\events.csv\n",
      "25 S:\\clickbait-motivate\\preprocessed\\7012\\m2\\ttl_signal.npy\n",
      "Saved events for 7012 m2 to S:\\clickbait-motivate\\bonsai\\7012\\m2\\events.csv\n",
      "26 S:\\clickbait-motivate\\preprocessed\\7012\\m3\\ttl_signal.npy\n",
      "Saved events for 7012 m3 to S:\\clickbait-motivate\\bonsai\\7012\\m3\\events.csv\n",
      "27 S:\\clickbait-motivate\\preprocessed\\7012\\m4\\ttl_signal.npy\n",
      "Saved events for 7012 m4 to S:\\clickbait-motivate\\bonsai\\7012\\m4\\events.csv\n",
      "28 S:\\clickbait-motivate\\preprocessed\\7012\\m5\\ttl_signal.npy\n",
      "Saved events for 7012 m5 to S:\\clickbait-motivate\\bonsai\\7012\\m5\\events.csv\n",
      "29 S:\\clickbait-motivate\\preprocessed\\7012\\m6\\ttl_signal.npy\n",
      "Saved events for 7012 m6 to S:\\clickbait-motivate\\bonsai\\7012\\m6\\events.csv\n",
      "30 S:\\clickbait-motivate\\preprocessed\\7012\\m7\\ttl_signal.npy\n",
      "Saved events for 7012 m7 to S:\\clickbait-motivate\\bonsai\\7012\\m7\\events.csv\n",
      "31 S:\\clickbait-motivate\\preprocessed\\7012\\m8\\ttl_signal.npy\n",
      "Saved events for 7012 m8 to S:\\clickbait-motivate\\bonsai\\7012\\m8\\events.csv\n",
      "32 S:\\clickbait-motivate\\preprocessed\\7012\\m9\\ttl_signal.npy\n",
      "Saved events for 7012 m9 to S:\\clickbait-motivate\\bonsai\\7012\\m9\\events.csv\n",
      "33 S:\\clickbait-motivate\\preprocessed\\7012\\m10\\ttl_signal.npy\n",
      "Saved events for 7012 m10 to S:\\clickbait-motivate\\bonsai\\7012\\m10\\events.csv\n",
      "34 S:\\clickbait-motivate\\preprocessed\\7012\\m11\\ttl_signal.npy\n",
      "Saved events for 7012 m11 to S:\\clickbait-motivate\\bonsai\\7012\\m11\\events.csv\n",
      "35 S:\\clickbait-motivate\\preprocessed\\7012\\m12\\ttl_signal.npy\n",
      "Saved events for 7012 m12 to S:\\clickbait-motivate\\bonsai\\7012\\m12\\events.csv\n",
      "36 S:\\clickbait-motivate\\preprocessed\\7012\\m13\\ttl_signal.npy\n",
      "Saved events for 7012 m13 to S:\\clickbait-motivate\\bonsai\\7012\\m13\\events.csv\n",
      "37 S:\\clickbait-motivate\\preprocessed\\7013\\m1\\ttl_signal.npy\n",
      "Saved events for 7013 m1 to S:\\clickbait-motivate\\bonsai\\7013\\m1\\events.csv\n",
      "38 S:\\clickbait-motivate\\preprocessed\\7013\\m2\\ttl_signal.npy\n",
      "Saved events for 7013 m2 to S:\\clickbait-motivate\\bonsai\\7013\\m2\\events.csv\n",
      "39 S:\\clickbait-motivate\\preprocessed\\7013\\m3\\ttl_signal.npy\n",
      "Saved events for 7013 m3 to S:\\clickbait-motivate\\bonsai\\7013\\m3\\events.csv\n",
      "40 S:\\clickbait-motivate\\preprocessed\\7013\\m4\\ttl_signal.npy\n",
      "Saved events for 7013 m4 to S:\\clickbait-motivate\\bonsai\\7013\\m4\\events.csv\n",
      "41 S:\\clickbait-motivate\\preprocessed\\7013\\m5\\ttl_signal.npy\n",
      "Saved events for 7013 m5 to S:\\clickbait-motivate\\bonsai\\7013\\m5\\events.csv\n",
      "42 S:\\clickbait-motivate\\preprocessed\\7013\\m6\\ttl_signal.npy\n",
      "Saved events for 7013 m6 to S:\\clickbait-motivate\\bonsai\\7013\\m6\\events.csv\n",
      "43 S:\\clickbait-motivate\\preprocessed\\7013\\m7\\ttl_signal.npy\n",
      "Saved events for 7013 m7 to S:\\clickbait-motivate\\bonsai\\7013\\m7\\events.csv\n",
      "44 S:\\clickbait-motivate\\preprocessed\\7013\\m8\\ttl_signal.npy\n",
      "Saved events for 7013 m8 to S:\\clickbait-motivate\\bonsai\\7013\\m8\\events.csv\n",
      "45 S:\\clickbait-motivate\\preprocessed\\7013\\m9\\ttl_signal.npy\n",
      "Saved events for 7013 m9 to S:\\clickbait-motivate\\bonsai\\7013\\m9\\events.csv\n",
      "46 S:\\clickbait-motivate\\preprocessed\\7013\\m10\\ttl_signal.npy\n",
      "Saved events for 7013 m10 to S:\\clickbait-motivate\\bonsai\\7013\\m10\\events.csv\n",
      "47 S:\\clickbait-motivate\\preprocessed\\7013\\m11\\ttl_signal.npy\n",
      "Saved events for 7013 m11 to S:\\clickbait-motivate\\bonsai\\7013\\m11\\events.csv\n",
      "48 S:\\clickbait-motivate\\preprocessed\\7013\\m12\\ttl_signal.npy\n",
      "Saved events for 7013 m12 to S:\\clickbait-motivate\\bonsai\\7013\\m12\\events.csv\n",
      "49 S:\\clickbait-motivate\\preprocessed\\7013\\m13\\ttl_signal.npy\n",
      "Saved events for 7013 m13 to S:\\clickbait-motivate\\bonsai\\7013\\m13\\events.csv\n"
     ]
    },
    {
     "ename": "IndexError",
     "evalue": "list index out of range",
     "output_type": "error",
     "traceback": [
      "\u001b[31m---------------------------------------------------------------------------\u001b[39m",
      "\u001b[31mIndexError\u001b[39m                                Traceback (most recent call last)",
      "\u001b[36mCell\u001b[39m\u001b[36m \u001b[39m\u001b[32mIn[22]\u001b[39m\u001b[32m, line 2\u001b[39m\n\u001b[32m      1\u001b[39m \u001b[38;5;28;01mfor\u001b[39;00m session_idx \u001b[38;5;129;01min\u001b[39;00m \u001b[38;5;28mrange\u001b[39m(\u001b[38;5;28mlen\u001b[39m(video_paths)):\n\u001b[32m----> \u001b[39m\u001b[32m2\u001b[39m     \u001b[38;5;28mprint\u001b[39m(\u001b[33mf\u001b[39m\u001b[33m\"\u001b[39m\u001b[38;5;132;01m{\u001b[39;00msession_idx\u001b[38;5;132;01m}\u001b[39;00m\u001b[33m \u001b[39m\u001b[38;5;132;01m{\u001b[39;00m\u001b[43mttl_paths\u001b[49m\u001b[43m[\u001b[49m\u001b[43msession_idx\u001b[49m\u001b[43m]\u001b[49m\u001b[38;5;132;01m}\u001b[39;00m\u001b[33m\"\u001b[39m)\n\u001b[32m      3\u001b[39m     ttl_times = np.load(ttl_paths[session_idx])\n\u001b[32m      4\u001b[39m     \u001b[38;5;66;03m# Binarize ttl signal and crop to capture portion\u001b[39;00m\n\u001b[32m      5\u001b[39m     \u001b[38;5;66;03m#ttl_full = process_ttl(ttl_paths[session_idx], ttl_floor=0, min_frame_duration=6, min_frame_spacing=6)\u001b[39;00m\n\u001b[32m      6\u001b[39m     \u001b[38;5;66;03m#ttl_crop, ttl_times = crop_ttl(ttl_full)\u001b[39;00m\n",
      "\u001b[31mIndexError\u001b[39m: list index out of range"
     ]
    }
   ],
   "source": [
    "for session_idx in range(len(video_paths)):\n",
    "    print(f\"{session_idx} {ttl_paths[session_idx]}\")\n",
    "    ttl_times = np.load(ttl_paths[session_idx])\n",
    "    # Binarize ttl signal and crop to capture portion\n",
    "    #ttl_full = process_ttl(ttl_paths[session_idx], ttl_floor=0, min_frame_duration=6, min_frame_spacing=6)\n",
    "    #ttl_crop, ttl_times = crop_ttl(ttl_full)\n",
    "\n",
    "    event_data = process_events(session_idx, event_paths_a, event_paths_b, columns)\n",
    "    # Create a column of millisecond timestamps, derived from Bonsai timestamps and offset by the first ttl pulse time\n",
    "    ttl_offset = len(ttl_times) - len(event_data)\n",
    "    timestamp_ms =  ttl_times[ttl_offset:]\n",
    "    event_data['timestamp_ms'] = timestamp_ms.astype(np.int32)\n",
    "\n",
    "    # add flip_state for 5 minute flip sessions ('flipper' sessions)\n",
    "    if not 'flip_state' in event_data:\n",
    "        fps = 30\n",
    "        minutes = 5\n",
    "        flip_dur = minutes * 60 * fps\n",
    "        length = len(event_data)\n",
    "        vector = (np.arange(length) // flip_dur) % 2\n",
    "        if session_idx % 2 == 0:\n",
    "            vector = np.abs(vector-1)\n",
    "        event_data['flip_state'] = vector\n",
    "\n",
    "    # Load SLEAP tracking data and concatenate with events df\n",
    "    if len(sleap_paths) == len(video_paths): \n",
    "        sleap_data = pd.read_csv(f\"{sleap_paths[session_idx]}\")\n",
    "        sleap_data = clean_sleap(sleap_data)\n",
    "        sleap_offset = abs(len(sleap_data) - len(event_data))  # Video starts slightly ahead of events\n",
    "        sleap_data = sleap_data[sleap_offset:].reset_index(drop=True)  # Trim to match event df length\n",
    "        event_data = pd.concat([event_data, sleap_data], axis=1, join='inner')\n",
    "\n",
    "    # Set up save path\n",
    "    mouse_id = ttl_paths[session_idx].parents[1].name\n",
    "    session_id = ttl_paths[session_idx].parents[0].name\n",
    "    event_path = save_path / mouse_id / session_id\n",
    "\n",
    "    # if event path doesn't exist, create it\n",
    "    if not event_path.exists():\n",
    "        event_path.mkdir(parents=True, exist_ok=True)\n",
    "    \n",
    "    # Save event data\n",
    "    event_data.to_csv(save_path / mouse_id / session_id / f'events.csv', index=False)\n",
    "    print(f\"Saved events for {mouse_id} {session_id} to {save_path / mouse_id / session_id / f'events.csv'}\")"
   ]
  },
  {
   "cell_type": "code",
   "execution_count": 7,
   "metadata": {},
   "outputs": [],
   "source": [
    "pd.read_csv()"
   ]
  }
 ],
 "metadata": {
  "kernelspec": {
   "display_name": "base",
   "language": "python",
   "name": "python3"
  },
  "language_info": {
   "codemirror_mode": {
    "name": "ipython",
    "version": 3
   },
   "file_extension": ".py",
   "mimetype": "text/x-python",
   "name": "python",
   "nbconvert_exporter": "python",
   "pygments_lexer": "ipython3",
   "version": "3.11.13"
  }
 },
 "nbformat": 4,
 "nbformat_minor": 2
}
