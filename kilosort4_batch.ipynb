{
 "cells": [
  {
   "cell_type": "code",
   "execution_count": 1,
   "metadata": {},
   "outputs": [],
   "source": [
    "from utils import *\n",
    "from IPython.display import clear_output, display\n",
    "from behavior_utils import *"
   ]
  },
  {
   "cell_type": "markdown",
   "metadata": {},
   "source": [
    "### Initialize paths"
   ]
  },
  {
   "cell_type": "code",
   "execution_count": 2,
   "metadata": {},
   "outputs": [
    {
     "name": "stdout",
     "output_type": "stream",
     "text": [
      "Found 15 mua.npy files\n",
      "0 S:\\clickbait-motivate\\preprocessed\\7010\\m1\\mua.npy\n",
      "1 S:\\clickbait-motivate\\preprocessed\\7010\\m2\\mua.npy\n",
      "2 S:\\clickbait-motivate\\preprocessed\\7010\\m3\\mua.npy\n",
      "3 S:\\clickbait-motivate\\preprocessed\\7010\\m4\\mua.npy\n",
      "4 S:\\clickbait-motivate\\preprocessed\\7011\\m1\\mua.npy\n",
      "5 S:\\clickbait-motivate\\preprocessed\\7011\\m2\\mua.npy\n",
      "6 S:\\clickbait-motivate\\preprocessed\\7011\\m3\\mua.npy\n",
      "7 S:\\clickbait-motivate\\preprocessed\\7012\\m1\\mua.npy\n",
      "8 S:\\clickbait-motivate\\preprocessed\\7012\\m2\\mua.npy\n",
      "9 S:\\clickbait-motivate\\preprocessed\\7012\\m3\\mua.npy\n",
      "10 S:\\clickbait-motivate\\preprocessed\\7012\\m4\\mua.npy\n",
      "11 S:\\clickbait-motivate\\preprocessed\\7013\\m1\\mua.npy\n",
      "12 S:\\clickbait-motivate\\preprocessed\\7013\\m2\\mua.npy\n",
      "13 S:\\clickbait-motivate\\preprocessed\\7013\\m3\\mua.npy\n",
      "14 S:\\clickbait-motivate\\preprocessed\\7013\\m4\\mua.npy\n"
     ]
    }
   ],
   "source": [
    "root_path = 'S:/'\n",
    "experiment = 'clickbait-motivate'\n",
    "session_type = 'm'\n",
    "\n",
    "# Get paths to relevant files\n",
    "data_paths = get_file_paths(f\"{root_path}/{experiment}\", extension='npy', keyword='mua', session_type=session_type, print_paths=True, print_n=np.inf)\n",
    "# Root directory for saving Kilosort results\n",
    "save_path = f\"{root_path}/{experiment}/kilosorted/\""
   ]
  },
  {
   "cell_type": "markdown",
   "metadata": {},
   "source": [
    "### Kilosort data"
   ]
  },
  {
   "cell_type": "code",
   "execution_count": 7,
   "metadata": {},
   "outputs": [],
   "source": [
    "settings = {\n",
    "    'n_chan_bin': 32,\n",
    "    'Th_universal': 9.0,\n",
    "    'Th_learned': 8.0,\n",
    "    'nblocks': 0,\n",
    "    'drift_smoothing': [0, 0, 0],\n",
    "    'dmin': 10.0,\n",
    "    'dminx': 40.0,\n",
    "    'nearest_chans': 10\n",
    "}"
   ]
  },
  {
   "cell_type": "code",
   "execution_count": 8,
   "metadata": {},
   "outputs": [
    {
     "name": "stdout",
     "output_type": "stream",
     "text": [
      "S:\\clickbait-motivate\\preprocessed\\7012\\m4\\mua.npy\n"
     ]
    }
   ],
   "source": [
    "for data_path in data_paths[10:11]:\n",
    "    print(data_path)"
   ]
  },
  {
   "cell_type": "code",
   "execution_count": 9,
   "metadata": {},
   "outputs": [
    {
     "name": "stdout",
     "output_type": "stream",
     "text": [
      "All done!\n",
      "2 of 15 mua.npy files processed\n"
     ]
    }
   ],
   "source": [
    "count = 1\n",
    "\n",
    "for ii, data_path in enumerate(data_paths):\n",
    "    print(f'Processing mua.npy {ii+1} of {len(data_paths)}')\n",
    "    results_path = os.path.join(save_path, get_savedirs(data_path))\n",
    "    kilosort(data_path, results_path, probe_path='S:/probe-maps/8_tetrode_2region_20um_8shank_tight.json', clean_outliers=False, settings=settings)\n",
    "    clear_output(wait=True)\n",
    "\n",
    "print('All done!')\n",
    "print(f'{ii+1} of {len(data_paths)} mua.npy files processed')"
   ]
  }
 ],
 "metadata": {
  "kernelspec": {
   "display_name": "kilosort4",
   "language": "python",
   "name": "python3"
  },
  "language_info": {
   "codemirror_mode": {
    "name": "ipython",
    "version": 3
   },
   "file_extension": ".py",
   "mimetype": "text/x-python",
   "name": "python",
   "nbconvert_exporter": "python",
   "pygments_lexer": "ipython3",
   "version": "3.11.13"
  }
 },
 "nbformat": 4,
 "nbformat_minor": 2
}
